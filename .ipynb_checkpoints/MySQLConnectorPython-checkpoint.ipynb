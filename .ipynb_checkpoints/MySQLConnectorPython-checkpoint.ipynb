{
 "cells": [
  {
   "cell_type": "code",
   "execution_count": null,
   "id": "ad5effe5",
   "metadata": {},
   "outputs": [],
   "source": [
    "!pip install mysql-connector-python"
   ]
  },
  {
   "cell_type": "code",
   "execution_count": 1,
   "id": "3f6e33e3",
   "metadata": {},
   "outputs": [],
   "source": [
    "import mysql.connector as connector"
   ]
  },
  {
   "cell_type": "code",
   "execution_count": 2,
   "id": "522330cb",
   "metadata": {},
   "outputs": [],
   "source": [
    "connection = connector.connect(user = \"ll_admin\", password = \"eAZb^3Hba*7t37i\", database = \"littlelemondb\")"
   ]
  },
  {
   "cell_type": "code",
   "execution_count": 3,
   "id": "0915a59b",
   "metadata": {},
   "outputs": [],
   "source": [
    "cursor=connection.cursor()"
   ]
  },
  {
   "cell_type": "code",
   "execution_count": 4,
   "id": "dcdeba2d",
   "metadata": {},
   "outputs": [
    {
     "name": "stdout",
     "output_type": "stream",
     "text": [
      "('addresses',)\n",
      "('bookings',)\n",
      "('customers',)\n",
      "('delivery',)\n",
      "('menuitems',)\n",
      "('orders',)\n",
      "('ordersview',)\n",
      "('staff',)\n"
     ]
    }
   ],
   "source": [
    "show_tables_query = \"\"\"SHOW tables\"\"\" \n",
    "cursor.execute(show_tables_query)\n",
    "results = cursor.fetchall()\n",
    "for result in results:\n",
    "    print(result)"
   ]
  },
  {
   "cell_type": "code",
   "execution_count": 5,
   "id": "239c4da8",
   "metadata": {},
   "outputs": [
    {
     "name": "stdout",
     "output_type": "stream",
     "text": [
      "Customers with orders greater than $60:\n",
      "('Vanessa McCarthy', 757536378, Decimal('150.00'))\n",
      "('Marcos Romero', 757536379, Decimal('200.00'))\n",
      "('Hiroki Yamane', 757536376, Decimal('120.00'))\n",
      "('Anna Iversen', 757536375, Decimal('70.00'))\n",
      "('Altay Ayhan', 757636378, Decimal('200.00'))\n",
      "('Jane Murphy', 753536379, Decimal('125.00'))\n",
      "('Laurina Delgado', 754536376, Decimal('150.00'))\n",
      "('Karl Pederson', 757936374, Decimal('220.00'))\n",
      "('Marcos Romero', 757536379, Decimal('200.00'))\n",
      "('Altay Ayhan', 757636378, Decimal('200.00'))\n"
     ]
    }
   ],
   "source": [
    "orders_query = \"\"\"SELECT CustomerName, PhoneNumber, BillAmount \n",
    "FROM Customers INNER JOIN Orders ON Customers.CustomerID = Orders.CustomerID\n",
    "WHERE BillAmount > 60\"\"\"\n",
    "cursor.execute(orders_query)\n",
    "print(\"Customers with orders greater than $60:\")\n",
    "results = cursor.fetchall()\n",
    "for result in results:\n",
    "    print(result)"
   ]
  },
  {
   "cell_type": "code",
   "execution_count": 6,
   "id": "7ba6bae7",
   "metadata": {},
   "outputs": [
    {
     "name": "stdout",
     "output_type": "stream",
     "text": [
      "The cursor is closed.\n",
      "MySQL connection is closed.\n"
     ]
    }
   ],
   "source": [
    "if connection.is_connected():\n",
    "    cursor.close()\n",
    "    print(\"The cursor is closed.\")\n",
    "    connection.close()\n",
    "    print(\"MySQL connection is closed.\")\n",
    "else:\n",
    "    print(\"Connection is already closed\")"
   ]
  }
 ],
 "metadata": {
  "kernelspec": {
   "display_name": "Python 3 (ipykernel)",
   "language": "python",
   "name": "python3"
  },
  "language_info": {
   "codemirror_mode": {
    "name": "ipython",
    "version": 3
   },
   "file_extension": ".py",
   "mimetype": "text/x-python",
   "name": "python",
   "nbconvert_exporter": "python",
   "pygments_lexer": "ipython3",
   "version": "3.9.9"
  }
 },
 "nbformat": 4,
 "nbformat_minor": 5
}
